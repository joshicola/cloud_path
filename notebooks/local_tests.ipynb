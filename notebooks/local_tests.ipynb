{
 "cells": [
  {
   "cell_type": "markdown",
   "metadata": {},
   "source": [
    "# Test Local CloudPath Behavior\n",
    "\n",
    "This is to test the CloudPath behavior in the local environment."
   ]
  },
  {
   "cell_type": "code",
   "execution_count": null,
   "metadata": {},
   "outputs": [],
   "source": [
    "import os\n",
    "import sys\n",
    "from pathlib import Path\n",
    "from fsspec import filesystem\n",
    "\n",
    "LIB_PATH = Path.cwd().parent\n",
    "sys.path.append(str(LIB_PATH))\n",
    "\n",
    "from cloud_path import CloudPath\n",
    "\n",
    "cloud_filesystem = filesystem(\"file\")\n",
    "\n",
    "home_path = Path.home()"
   ]
  },
  {
   "cell_type": "code",
   "execution_count": null,
   "metadata": {},
   "outputs": [],
   "source": [
    "# Test explicit filesystem as keyword argument\n",
    "cloud_path = CloudPath(home_path, filesystem=cloud_filesystem)"
   ]
  },
  {
   "cell_type": "code",
   "execution_count": null,
   "metadata": {},
   "outputs": [],
   "source": [
    "# Test implicit filesystem from arg list\n",
    "cloud_path = CloudPath(home_path, \"Downloads\", cloud_filesystem)"
   ]
  },
  {
   "cell_type": "code",
   "execution_count": null,
   "metadata": {},
   "outputs": [],
   "source": []
  }
 ],
 "metadata": {
  "kernelspec": {
   "display_name": ".venv",
   "language": "python",
   "name": "python3"
  },
  "language_info": {
   "codemirror_mode": {
    "name": "ipython",
    "version": 3
   },
   "file_extension": ".py",
   "mimetype": "text/x-python",
   "name": "python",
   "nbconvert_exporter": "python",
   "pygments_lexer": "ipython3",
   "version": "3.12.3"
  }
 },
 "nbformat": 4,
 "nbformat_minor": 2
}
